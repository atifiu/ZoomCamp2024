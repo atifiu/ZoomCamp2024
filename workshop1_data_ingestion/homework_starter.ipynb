{
 "cells": [
  {
   "cell_type": "markdown",
   "metadata": {
    "id": "mrTFv5nPClXh"
   },
   "source": [
    "# **Homework**: Data talks club data engineering zoomcamp Data loading workshop\n",
    "\n",
    "Hello folks, let's practice what we learned - Loading data with the best practices of data engineering.\n",
    "\n",
    "Here are the exercises we will do\n",
    "\n",
    "\n"
   ]
  },
  {
   "cell_type": "markdown",
   "metadata": {
    "id": "wLF4iXf-NR7t"
   },
   "source": [
    "# 1. Use a generator\n",
    "\n",
    "Remember the concept of generator? Let's practice using them to futher our understanding of how they work.\n",
    "\n",
    "Let's define a generator and then run it as practice.\n",
    "\n",
    "**Answer the following questions:**\n",
    "\n",
    "- **Question 1: What is the sum of the outputs of the generator for limit = 5?**\n",
    "- **Question 2: What is the 13th number yielded**\n",
    "\n",
    "I suggest practicing these questions without GPT as the purpose is to further your learning."
   ]
  },
  {
   "cell_type": "code",
   "execution_count": 5,
   "metadata": {
    "colab": {
     "base_uri": "https://localhost:8080/"
    },
    "id": "wLng-bDJN4jf",
    "outputId": "547683cb-5f56-4815-a903-d0d9578eb1f9"
   },
   "outputs": [
    {
     "name": "stdout",
     "output_type": "stream",
     "text": [
      "1.0\n",
      "1.4142135623730951\n",
      "1.7320508075688772\n",
      "2.0\n",
      "2.23606797749979\n",
      "2.449489742783178\n",
      "2.6457513110645907\n",
      "2.8284271247461903\n",
      "3.0\n",
      "3.1622776601683795\n",
      "3.3166247903554\n",
      "3.4641016151377544\n",
      "3.605551275463989\n",
      "32.854555867161245\n"
     ]
    }
   ],
   "source": [
    "def square_root_generator(limit):\n",
    "    n = 1\n",
    "    while n <= limit:\n",
    "        yield n ** 0.5\n",
    "        n += 1\n",
    "\n",
    "# Example usage:\n",
    "limit = 5\n",
    "generator = square_root_generator(limit)\n",
    "\n",
    "result = 0\n",
    "for i, sqrt_value in enumerate(generator):\n",
    "    print(sqrt_value)\n",
    "    result += sqrt_value\n",
    "print(result) \n",
    "# Q1 8.382332347441762\n",
    "\n"
   ]
  },
  {
   "cell_type": "code",
   "execution_count": 7,
   "metadata": {
    "id": "xbe3q55zN43j"
   },
   "outputs": [
    {
     "name": "stdout",
     "output_type": "stream",
     "text": [
      "3.605551275463989\n"
     ]
    }
   ],
   "source": [
    "limit = 13\n",
    "generator = square_root_generator(limit)\n",
    "\n",
    "result = 0\n",
    "for i, sqrt_value in enumerate(generator, start = 1):\n",
    "    if i == 13:\n",
    "        print(sqrt_value)\n",
    "\n",
    "# Q2 3.605551275463989\n",
    "    \n"
   ]
  },
  {
   "cell_type": "markdown",
   "metadata": {
    "id": "vjWhILzGJMpK"
   },
   "source": [
    "# 2. Append a generator to a table with existing data\n",
    "\n",
    "\n",
    "Below you have 2 generators. You will be tasked to load them to duckdb and answer some questions from the data\n",
    "\n",
    "1. Load the first generator and calculate the sum of ages of all people. Make sure to only load it once.\n",
    "2. Append the second generator to the same table as the first.\n",
    "3. **After correctly appending the data, calculate the sum of all ages of people.**\n",
    "\n",
    "\n"
   ]
  },
  {
   "cell_type": "code",
   "execution_count": 22,
   "metadata": {
    "colab": {
     "base_uri": "https://localhost:8080/"
    },
    "id": "2MoaQcdLBEk6",
    "outputId": "d2b93dc1-d83f-44ea-aeff-fdf51d75f7aa"
   },
   "outputs": [
    {
     "name": "stdout",
     "output_type": "stream",
     "text": [
      "{'ID': 1, 'Name': 'Person_1', 'Age': 26, 'City': 'City_A'}\n",
      "{'ID': 2, 'Name': 'Person_2', 'Age': 27, 'City': 'City_A'}\n",
      "{'ID': 3, 'Name': 'Person_3', 'Age': 28, 'City': 'City_A'}\n",
      "{'ID': 4, 'Name': 'Person_4', 'Age': 29, 'City': 'City_A'}\n",
      "{'ID': 5, 'Name': 'Person_5', 'Age': 30, 'City': 'City_A'}\n",
      "{'ID': 3, 'Name': 'Person_3', 'Age': 33, 'City': 'City_B', 'Occupation': 'Job_3'}\n",
      "{'ID': 4, 'Name': 'Person_4', 'Age': 34, 'City': 'City_B', 'Occupation': 'Job_4'}\n",
      "{'ID': 5, 'Name': 'Person_5', 'Age': 35, 'City': 'City_B', 'Occupation': 'Job_5'}\n",
      "{'ID': 6, 'Name': 'Person_6', 'Age': 36, 'City': 'City_B', 'Occupation': 'Job_6'}\n",
      "{'ID': 7, 'Name': 'Person_7', 'Age': 37, 'City': 'City_B', 'Occupation': 'Job_7'}\n",
      "{'ID': 8, 'Name': 'Person_8', 'Age': 38, 'City': 'City_B', 'Occupation': 'Job_8'}\n"
     ]
    }
   ],
   "source": [
    "def people_1():\n",
    "    for i in range(1, 6):\n",
    "        yield {\"ID\": i, \"Name\": f\"Person_{i}\", \"Age\": 25 + i, \"City\": \"City_A\"}\n",
    "\n",
    "for person in people_1():\n",
    "    print(person)\n",
    "\n",
    "\n",
    "def people_2():\n",
    "    for i in range(3, 9):\n",
    "        yield {\"ID\": i, \"Name\": f\"Person_{i}\", \"Age\": 30 + i, \"City\": \"City_B\", \"Occupation\": f\"Job_{i}\"}\n",
    "\n",
    "\n",
    "for person in people_2():\n",
    "    print(person)\n"
   ]
  },
  {
   "cell_type": "markdown",
   "metadata": {
    "id": "vtdTIm4fvQCN"
   },
   "source": []
  },
  {
   "cell_type": "markdown",
   "metadata": {
    "id": "pY4cFAWOSwN1"
   },
   "source": [
    "# 3. Merge a generator\n",
    "\n",
    "Re-use the generators from Exercise 2.\n",
    "\n",
    "A table's primary key needs to be created from the start, so load your data to a new table with primary key ID.\n",
    "\n",
    "Load your first generator first, and then load the second one with merge. Since they have overlapping IDs, some of the records from the first load should be replaced by the ones from the second load.\n",
    "\n",
    "After loading, you should have a total of 8 records, and ID 3 should have age 33.\n",
    "\n",
    "Question: **Calculate the sum of ages of all the people loaded as described above.**\n"
   ]
  },
  {
   "cell_type": "markdown",
   "metadata": {
    "id": "kKB2GTB9oVjr"
   },
   "source": [
    "# Solution: First make sure that the following modules are installed:"
   ]
  },
  {
   "cell_type": "code",
   "execution_count": 9,
   "metadata": {
    "id": "xTVvtyqrfVNq"
   },
   "outputs": [
    {
     "name": "stdout",
     "output_type": "stream",
     "text": [
      "Collecting dlt[duckdb]\n",
      "  Downloading dlt-0.4.4-py3-none-any.whl.metadata (9.7 kB)\n",
      "Requirement already satisfied: PyYAML>=5.4.1 in /home/codespace/.local/lib/python3.10/site-packages (from dlt[duckdb]) (6.0.1)\n",
      "Requirement already satisfied: SQLAlchemy>=1.4.0 in /usr/local/python/3.10.13/lib/python3.10/site-packages (from dlt[duckdb]) (2.0.25)\n",
      "Collecting astunparse>=1.6.3 (from dlt[duckdb])\n",
      "  Downloading astunparse-1.6.3-py2.py3-none-any.whl (12 kB)\n",
      "Requirement already satisfied: click>=7.1 in /usr/local/python/3.10.13/lib/python3.10/site-packages (from dlt[duckdb]) (8.1.7)\n",
      "Requirement already satisfied: fsspec>=2022.4.0 in /home/codespace/.local/lib/python3.10/site-packages (from dlt[duckdb]) (2023.12.1)\n",
      "Requirement already satisfied: gitpython>=3.1.29 in /home/codespace/.local/lib/python3.10/site-packages (from dlt[duckdb]) (3.1.40)\n",
      "Collecting giturlparse>=0.10.0 (from dlt[duckdb])\n",
      "  Downloading giturlparse-0.12.0-py2.py3-none-any.whl.metadata (4.5 kB)\n",
      "Collecting hexbytes>=0.2.2 (from dlt[duckdb])\n",
      "  Downloading hexbytes-1.0.0-py3-none-any.whl.metadata (5.3 kB)\n",
      "Collecting humanize>=4.4.0 (from dlt[duckdb])\n",
      "  Downloading humanize-4.9.0-py3-none-any.whl.metadata (7.9 kB)\n",
      "Collecting jsonpath-ng>=1.5.3 (from dlt[duckdb])\n",
      "  Downloading jsonpath_ng-1.6.1-py3-none-any.whl.metadata (18 kB)\n",
      "Collecting makefun>=1.15.0 (from dlt[duckdb])\n",
      "  Downloading makefun-1.15.2-py2.py3-none-any.whl.metadata (3.0 kB)\n",
      "Collecting orjson<=3.9.10,>=3.6.7 (from dlt[duckdb])\n",
      "  Downloading orjson-3.9.10-cp310-cp310-manylinux_2_17_x86_64.manylinux2014_x86_64.whl.metadata (49 kB)\n",
      "\u001b[2K     \u001b[38;2;114;156;31m━━━━━━━━━━━━━━━━━━━━━━━━━━━━━━━━━━━━━━━\u001b[0m \u001b[32m49.3/49.3 kB\u001b[0m \u001b[31m548.6 kB/s\u001b[0m eta \u001b[36m0:00:00\u001b[0m kB/s\u001b[0m eta \u001b[36m0:00:01\u001b[0m01\u001b[0m\n",
      "\u001b[?25hRequirement already satisfied: packaging>=21.1 in /home/codespace/.local/lib/python3.10/site-packages (from dlt[duckdb]) (23.2)\n",
      "Collecting pathvalidate>=2.5.2 (from dlt[duckdb])\n",
      "  Downloading pathvalidate-3.2.0-py3-none-any.whl.metadata (11 kB)\n",
      "Requirement already satisfied: pendulum>=2.1.2 in /usr/local/python/3.10.13/lib/python3.10/site-packages (from dlt[duckdb]) (3.0.0)\n",
      "Requirement already satisfied: pytz>=2022.6 in /home/codespace/.local/lib/python3.10/site-packages (from dlt[duckdb]) (2023.3.post1)\n",
      "Requirement already satisfied: requests>=2.26.0 in /home/codespace/.local/lib/python3.10/site-packages (from dlt[duckdb]) (2.31.0)\n",
      "Collecting requirements-parser>=0.5.0 (from dlt[duckdb])\n",
      "  Downloading requirements_parser-0.5.0-py3-none-any.whl (18 kB)\n",
      "Collecting semver>=2.13.0 (from dlt[duckdb])\n",
      "  Downloading semver-3.0.2-py3-none-any.whl.metadata (5.0 kB)\n",
      "Requirement already satisfied: setuptools>=65.6.0 in /usr/local/python/3.10.13/lib/python3.10/site-packages (from dlt[duckdb]) (68.2.2)\n",
      "Collecting simplejson>=3.17.5 (from dlt[duckdb])\n",
      "  Downloading simplejson-3.19.2-cp310-cp310-manylinux_2_5_x86_64.manylinux1_x86_64.manylinux_2_17_x86_64.manylinux2014_x86_64.whl.metadata (3.1 kB)\n",
      "Requirement already satisfied: tenacity>=8.0.2 in /home/codespace/.local/lib/python3.10/site-packages (from dlt[duckdb]) (8.2.3)\n",
      "Collecting tomlkit>=0.11.3 (from dlt[duckdb])\n",
      "  Downloading tomlkit-0.12.3-py3-none-any.whl.metadata (2.7 kB)\n",
      "Requirement already satisfied: typing-extensions>=4.0.0 in /home/codespace/.local/lib/python3.10/site-packages (from dlt[duckdb]) (4.8.0)\n",
      "Requirement already satisfied: tzdata>=2022.1 in /home/codespace/.local/lib/python3.10/site-packages (from dlt[duckdb]) (2023.3)\n",
      "Requirement already satisfied: duckdb<0.10.0,>=0.6.1 in /usr/local/python/3.10.13/lib/python3.10/site-packages (from dlt[duckdb]) (0.9.2)\n",
      "Collecting wheel<1.0,>=0.23.0 (from astunparse>=1.6.3->dlt[duckdb])\n",
      "  Using cached wheel-0.42.0-py3-none-any.whl.metadata (2.2 kB)\n",
      "Requirement already satisfied: six<2.0,>=1.6.1 in /home/codespace/.local/lib/python3.10/site-packages (from astunparse>=1.6.3->dlt[duckdb]) (1.16.0)\n",
      "Requirement already satisfied: gitdb<5,>=4.0.1 in /home/codespace/.local/lib/python3.10/site-packages (from gitpython>=3.1.29->dlt[duckdb]) (4.0.11)\n",
      "Collecting ply (from jsonpath-ng>=1.5.3->dlt[duckdb])\n",
      "  Downloading ply-3.11-py2.py3-none-any.whl (49 kB)\n",
      "\u001b[2K     \u001b[38;2;114;156;31m━━━━━━━━━━━━━━━━━━━━━━━━━━━━━━━━━━━━━━━━\u001b[0m \u001b[32m49.6/49.6 kB\u001b[0m \u001b[31m1.1 MB/s\u001b[0m eta \u001b[36m0:00:00\u001b[0m MB/s\u001b[0m eta \u001b[36m0:00:01\u001b[0m\n",
      "\u001b[?25hRequirement already satisfied: python-dateutil>=2.6 in /home/codespace/.local/lib/python3.10/site-packages (from pendulum>=2.1.2->dlt[duckdb]) (2.8.2)\n",
      "Requirement already satisfied: time-machine>=2.6.0 in /usr/local/python/3.10.13/lib/python3.10/site-packages (from pendulum>=2.1.2->dlt[duckdb]) (2.13.0)\n",
      "Requirement already satisfied: charset-normalizer<4,>=2 in /home/codespace/.local/lib/python3.10/site-packages (from requests>=2.26.0->dlt[duckdb]) (3.3.2)\n",
      "Requirement already satisfied: idna<4,>=2.5 in /home/codespace/.local/lib/python3.10/site-packages (from requests>=2.26.0->dlt[duckdb]) (3.6)\n",
      "Requirement already satisfied: urllib3<3,>=1.21.1 in /usr/local/python/3.10.13/lib/python3.10/site-packages (from requests>=2.26.0->dlt[duckdb]) (2.0.7)\n",
      "Requirement already satisfied: certifi>=2017.4.17 in /home/codespace/.local/lib/python3.10/site-packages (from requests>=2.26.0->dlt[duckdb]) (2023.11.17)\n",
      "Collecting types-setuptools>=57.0.0 (from requirements-parser>=0.5.0->dlt[duckdb])\n",
      "  Downloading types_setuptools-69.0.0.20240125-py3-none-any.whl.metadata (1.6 kB)\n",
      "Requirement already satisfied: greenlet!=0.4.17 in /usr/local/python/3.10.13/lib/python3.10/site-packages (from SQLAlchemy>=1.4.0->dlt[duckdb]) (3.0.3)\n",
      "Requirement already satisfied: smmap<6,>=3.0.1 in /home/codespace/.local/lib/python3.10/site-packages (from gitdb<5,>=4.0.1->gitpython>=3.1.29->dlt[duckdb]) (5.0.1)\n",
      "Downloading giturlparse-0.12.0-py2.py3-none-any.whl (15 kB)\n",
      "Downloading hexbytes-1.0.0-py3-none-any.whl (5.9 kB)\n",
      "Downloading humanize-4.9.0-py3-none-any.whl (126 kB)\n",
      "\u001b[2K   \u001b[38;2;114;156;31m━━━━━━━━━━━━━━━━━━━━━━━━━━━━━━━━━━━━━━━━\u001b[0m \u001b[32m126.8/126.8 kB\u001b[0m \u001b[31m1.5 MB/s\u001b[0m eta \u001b[36m0:00:00\u001b[0m[31m2.3 MB/s\u001b[0m eta \u001b[36m0:00:01\u001b[0m\n",
      "\u001b[?25hDownloading jsonpath_ng-1.6.1-py3-none-any.whl (29 kB)\n",
      "Downloading makefun-1.15.2-py2.py3-none-any.whl (22 kB)\n",
      "Downloading orjson-3.9.10-cp310-cp310-manylinux_2_17_x86_64.manylinux2014_x86_64.whl (138 kB)\n",
      "\u001b[2K   \u001b[38;2;114;156;31m━━━━━━━━━━━━━━━━━━━━━━━━━━━━━━━━━━━━━━━━\u001b[0m \u001b[32m138.7/138.7 kB\u001b[0m \u001b[31m3.2 MB/s\u001b[0m eta \u001b[36m0:00:00\u001b[0m1 MB/s\u001b[0m eta \u001b[36m0:00:01\u001b[0m\n",
      "\u001b[?25hDownloading pathvalidate-3.2.0-py3-none-any.whl (23 kB)\n",
      "Downloading semver-3.0.2-py3-none-any.whl (17 kB)\n",
      "Downloading simplejson-3.19.2-cp310-cp310-manylinux_2_5_x86_64.manylinux1_x86_64.manylinux_2_17_x86_64.manylinux2014_x86_64.whl (137 kB)\n",
      "\u001b[2K   \u001b[38;2;114;156;31m━━━━━━━━━━━━━━━━━━━━━━━━━━━━━━━━━━━━━━━━\u001b[0m \u001b[32m137.9/137.9 kB\u001b[0m \u001b[31m3.4 MB/s\u001b[0m eta \u001b[36m0:00:00\u001b[0m[31m14.5 MB/s\u001b[0m eta \u001b[36m0:00:01\u001b[0m\n",
      "\u001b[?25hDownloading tomlkit-0.12.3-py3-none-any.whl (37 kB)\n",
      "Downloading dlt-0.4.4-py3-none-any.whl (540 kB)\n",
      "\u001b[2K   \u001b[38;2;114;156;31m━━━━━━━━━━━━━━━━━━━━━━━━━━━━━━━━━━━━━━━━\u001b[0m \u001b[32m540.7/540.7 kB\u001b[0m \u001b[31m5.4 MB/s\u001b[0m eta \u001b[36m0:00:00\u001b[0m[36m0:00:01\u001b[0m\u001b[36m0:00:01\u001b[0m\n",
      "\u001b[?25hDownloading types_setuptools-69.0.0.20240125-py3-none-any.whl (51 kB)\n",
      "\u001b[2K   \u001b[38;2;114;156;31m━━━━━━━━━━━━━━━━━━━━━━━━━━━━━━━━━━━━━━━━\u001b[0m \u001b[32m51.3/51.3 kB\u001b[0m \u001b[31m1.4 MB/s\u001b[0m eta \u001b[36m0:00:00\u001b[0m\n",
      "\u001b[?25hUsing cached wheel-0.42.0-py3-none-any.whl (65 kB)\n",
      "Installing collected packages: ply, makefun, wheel, types-setuptools, tomlkit, simplejson, semver, pathvalidate, orjson, jsonpath-ng, humanize, hexbytes, giturlparse, requirements-parser, astunparse, dlt\n",
      "Successfully installed astunparse-1.6.3 dlt-0.4.4 giturlparse-0.12.0 hexbytes-1.0.0 humanize-4.9.0 jsonpath-ng-1.6.1 makefun-1.15.2 orjson-3.9.10 pathvalidate-3.2.0 ply-3.11 requirements-parser-0.5.0 semver-3.0.2 simplejson-3.19.2 tomlkit-0.12.3 types-setuptools-69.0.0.20240125 wheel-0.42.0\n",
      "\n",
      "\u001b[1m[\u001b[0m\u001b[34;49mnotice\u001b[0m\u001b[1;39;49m]\u001b[0m\u001b[39;49m A new release of pip is available: \u001b[0m\u001b[31;49m23.3.1\u001b[0m\u001b[39;49m -> \u001b[0m\u001b[32;49m24.0\u001b[0m\n",
      "\u001b[1m[\u001b[0m\u001b[34;49mnotice\u001b[0m\u001b[1;39;49m]\u001b[0m\u001b[39;49m To update, run: \u001b[0m\u001b[32;49mpython -m pip install --upgrade pip\u001b[0m\n"
     ]
    }
   ],
   "source": [
    "#Install the dependencies\n",
    "# %%capture\n",
    "!pip install dlt[duckdb]"
   ]
  },
  {
   "cell_type": "code",
   "execution_count": 11,
   "metadata": {
    "id": "a2-PRBAkGC2K"
   },
   "outputs": [
    {
     "name": "stdout",
     "output_type": "stream",
     "text": [
      "Pipeline dlt_ipykernel_launcher load step completed in 0.51 seconds\n",
      "1 load package(s) were loaded to destination duckdb and into dataset generators\n",
      "The duckdb destination used duckdb:////workspaces/ZoomCamp2024/workshop1_data_ingestion/dlt_ipykernel_launcher.duckdb location to store data\n",
      "Load package 1707836090.481978 is LOADED and contains no failed jobs\n"
     ]
    }
   ],
   "source": [
    "import dlt\n",
    "\n",
    "# define the connection to load to.\n",
    "# We now use duckdb, but you can switch to Bigquery later\n",
    "generators_pipeline = dlt.pipeline(destination='duckdb', dataset_name='generators')\n",
    "\n",
    "\n",
    "# we can load any generator to a table at the pipeline destnation as follows:\n",
    "info = generators_pipeline.run(people_1(),\n",
    "\t\t\t\t\t\t\t\t\t\ttable_name=\"person1\",\n",
    "\t\t\t\t\t\t\t\t\t\twrite_disposition=\"replace\")\n",
    "\n",
    "# the outcome metadata is returned by the load and we can inspect it by printing it.\n",
    "print(info)\n",
    "\n"
   ]
  },
  {
   "cell_type": "code",
   "execution_count": 20,
   "metadata": {},
   "outputs": [
    {
     "name": "stdout",
     "output_type": "stream",
     "text": [
      "Loaded tables: \n"
     ]
    },
    {
     "data": {
      "text/plain": [
       "┌─────────────────────┐\n",
       "│        name         │\n",
       "│       varchar       │\n",
       "├─────────────────────┤\n",
       "│ _dlt_loads          │\n",
       "│ _dlt_pipeline_state │\n",
       "│ _dlt_version        │\n",
       "│ person1             │\n",
       "└─────────────────────┘"
      ]
     },
     "metadata": {},
     "output_type": "display_data"
    },
    {
     "name": "stdout",
     "output_type": "stream",
     "text": [
      "\n",
      "\n",
      "\n",
      " person1 table below:\n"
     ]
    },
    {
     "data": {
      "text/html": [
       "<div>\n",
       "<style scoped>\n",
       "    .dataframe tbody tr th:only-of-type {\n",
       "        vertical-align: middle;\n",
       "    }\n",
       "\n",
       "    .dataframe tbody tr th {\n",
       "        vertical-align: top;\n",
       "    }\n",
       "\n",
       "    .dataframe thead th {\n",
       "        text-align: right;\n",
       "    }\n",
       "</style>\n",
       "<table border=\"1\" class=\"dataframe\">\n",
       "  <thead>\n",
       "    <tr style=\"text-align: right;\">\n",
       "      <th></th>\n",
       "      <th>id</th>\n",
       "      <th>name</th>\n",
       "      <th>age</th>\n",
       "      <th>city</th>\n",
       "      <th>_dlt_load_id</th>\n",
       "      <th>_dlt_id</th>\n",
       "      <th>occupation</th>\n",
       "    </tr>\n",
       "  </thead>\n",
       "  <tbody>\n",
       "    <tr>\n",
       "      <th>0</th>\n",
       "      <td>1</td>\n",
       "      <td>Person_1</td>\n",
       "      <td>26</td>\n",
       "      <td>City_A</td>\n",
       "      <td>1707836090.481978</td>\n",
       "      <td>/ScZlxSRG8eqTg</td>\n",
       "      <td>None</td>\n",
       "    </tr>\n",
       "    <tr>\n",
       "      <th>1</th>\n",
       "      <td>2</td>\n",
       "      <td>Person_2</td>\n",
       "      <td>27</td>\n",
       "      <td>City_A</td>\n",
       "      <td>1707836090.481978</td>\n",
       "      <td>uojOoo3PerwlwA</td>\n",
       "      <td>None</td>\n",
       "    </tr>\n",
       "    <tr>\n",
       "      <th>2</th>\n",
       "      <td>3</td>\n",
       "      <td>Person_3</td>\n",
       "      <td>28</td>\n",
       "      <td>City_A</td>\n",
       "      <td>1707836090.481978</td>\n",
       "      <td>mHcx2rNw7gGffQ</td>\n",
       "      <td>None</td>\n",
       "    </tr>\n",
       "    <tr>\n",
       "      <th>3</th>\n",
       "      <td>4</td>\n",
       "      <td>Person_4</td>\n",
       "      <td>29</td>\n",
       "      <td>City_A</td>\n",
       "      <td>1707836090.481978</td>\n",
       "      <td>xbPkajGZ4LDHYg</td>\n",
       "      <td>None</td>\n",
       "    </tr>\n",
       "    <tr>\n",
       "      <th>4</th>\n",
       "      <td>5</td>\n",
       "      <td>Person_5</td>\n",
       "      <td>30</td>\n",
       "      <td>City_A</td>\n",
       "      <td>1707836090.481978</td>\n",
       "      <td>J2ZBgDycnpWAvQ</td>\n",
       "      <td>None</td>\n",
       "    </tr>\n",
       "    <tr>\n",
       "      <th>5</th>\n",
       "      <td>3</td>\n",
       "      <td>Person_3</td>\n",
       "      <td>33</td>\n",
       "      <td>City_B</td>\n",
       "      <td>1707836537.8145154</td>\n",
       "      <td>7VEtpIzFOC7C3Q</td>\n",
       "      <td>Job_3</td>\n",
       "    </tr>\n",
       "    <tr>\n",
       "      <th>6</th>\n",
       "      <td>4</td>\n",
       "      <td>Person_4</td>\n",
       "      <td>34</td>\n",
       "      <td>City_B</td>\n",
       "      <td>1707836537.8145154</td>\n",
       "      <td>SQYI2h+1Cd6aPQ</td>\n",
       "      <td>Job_4</td>\n",
       "    </tr>\n",
       "    <tr>\n",
       "      <th>7</th>\n",
       "      <td>5</td>\n",
       "      <td>Person_5</td>\n",
       "      <td>35</td>\n",
       "      <td>City_B</td>\n",
       "      <td>1707836537.8145154</td>\n",
       "      <td>JmVIPnqgfyOcMQ</td>\n",
       "      <td>Job_5</td>\n",
       "    </tr>\n",
       "    <tr>\n",
       "      <th>8</th>\n",
       "      <td>6</td>\n",
       "      <td>Person_6</td>\n",
       "      <td>36</td>\n",
       "      <td>City_B</td>\n",
       "      <td>1707836537.8145154</td>\n",
       "      <td>hL4Wlw1/ViJibw</td>\n",
       "      <td>Job_6</td>\n",
       "    </tr>\n",
       "    <tr>\n",
       "      <th>9</th>\n",
       "      <td>7</td>\n",
       "      <td>Person_7</td>\n",
       "      <td>37</td>\n",
       "      <td>City_B</td>\n",
       "      <td>1707836537.8145154</td>\n",
       "      <td>qYEZW+zQQQOenw</td>\n",
       "      <td>Job_7</td>\n",
       "    </tr>\n",
       "    <tr>\n",
       "      <th>10</th>\n",
       "      <td>8</td>\n",
       "      <td>Person_8</td>\n",
       "      <td>38</td>\n",
       "      <td>City_B</td>\n",
       "      <td>1707836537.8145154</td>\n",
       "      <td>rWq9TJSKKekocw</td>\n",
       "      <td>Job_8</td>\n",
       "    </tr>\n",
       "  </tbody>\n",
       "</table>\n",
       "</div>"
      ],
      "text/plain": [
       "    id      name  age    city        _dlt_load_id         _dlt_id occupation\n",
       "0    1  Person_1   26  City_A   1707836090.481978  /ScZlxSRG8eqTg       None\n",
       "1    2  Person_2   27  City_A   1707836090.481978  uojOoo3PerwlwA       None\n",
       "2    3  Person_3   28  City_A   1707836090.481978  mHcx2rNw7gGffQ       None\n",
       "3    4  Person_4   29  City_A   1707836090.481978  xbPkajGZ4LDHYg       None\n",
       "4    5  Person_5   30  City_A   1707836090.481978  J2ZBgDycnpWAvQ       None\n",
       "5    3  Person_3   33  City_B  1707836537.8145154  7VEtpIzFOC7C3Q      Job_3\n",
       "6    4  Person_4   34  City_B  1707836537.8145154  SQYI2h+1Cd6aPQ      Job_4\n",
       "7    5  Person_5   35  City_B  1707836537.8145154  JmVIPnqgfyOcMQ      Job_5\n",
       "8    6  Person_6   36  City_B  1707836537.8145154  hL4Wlw1/ViJibw      Job_6\n",
       "9    7  Person_7   37  City_B  1707836537.8145154  qYEZW+zQQQOenw      Job_7\n",
       "10   8  Person_8   38  City_B  1707836537.8145154  rWq9TJSKKekocw      Job_8"
      ]
     },
     "metadata": {},
     "output_type": "display_data"
    }
   ],
   "source": [
    "import duckdb\n",
    "\n",
    "conn = duckdb.connect(f\"{generators_pipeline.pipeline_name}.duckdb\")\n",
    "\n",
    "# let's see the tables\n",
    "conn.sql(f\"SET search_path = '{generators_pipeline.dataset_name}'\")\n",
    "print('Loaded tables: ')\n",
    "display(conn.sql(\"show tables\"))\n",
    "\n",
    "# and the data\n",
    "\n",
    "print(\"\\n\\n\\n person1 table below:\")\n",
    "\n",
    "person1 = conn.sql(\"SELECT * FROM person1\").df()\n",
    "display(person1)"
   ]
  },
  {
   "cell_type": "code",
   "execution_count": 15,
   "metadata": {},
   "outputs": [
    {
     "data": {
      "text/plain": [
       "┌──────────┐\n",
       "│ sum(age) │\n",
       "│  int128  │\n",
       "├──────────┤\n",
       "│      140 │\n",
       "└──────────┘"
      ]
     },
     "execution_count": 15,
     "metadata": {},
     "output_type": "execute_result"
    }
   ],
   "source": [
    "duckdb.sql(f\"select sum(age) from person1\")"
   ]
  },
  {
   "cell_type": "code",
   "execution_count": 16,
   "metadata": {},
   "outputs": [
    {
     "name": "stdout",
     "output_type": "stream",
     "text": [
      "Pipeline dlt_ipykernel_launcher load step completed in 0.25 seconds\n",
      "1 load package(s) were loaded to destination duckdb and into dataset generators\n",
      "The duckdb destination used duckdb:////workspaces/ZoomCamp2024/workshop1_data_ingestion/dlt_ipykernel_launcher.duckdb location to store data\n",
      "Load package 1707836537.8145154 is LOADED and contains no failed jobs\n"
     ]
    }
   ],
   "source": [
    "# Append data\n",
    "info = generators_pipeline.run(people_2(),\n",
    "\t\t\t\t\t\t\t\t\t\ttable_name=\"person1\",\n",
    "\t\t\t\t\t\t\t\t\t\twrite_disposition=\"append\")\n",
    "print(info)"
   ]
  },
  {
   "cell_type": "code",
   "execution_count": null,
   "metadata": {},
   "outputs": [],
   "source": [
    "import duckdb\n",
    "\n",
    "conn = duckdb.connect(f\"{generators_pipeline.pipeline_name}.duckdb\")\n",
    "\n",
    "# let's see the tables\n",
    "conn.sql(f\"SET search_path = '{generators_pipeline.dataset_name}'\")\n",
    "print('Loaded tables: ')\n",
    "display(conn.sql(\"show tables\"))\n",
    "\n",
    "# and the data\n",
    "\n",
    "print(\"\\n\\n\\n person1 table below:\")\n",
    "\n",
    "person1 = conn.sql(\"SELECT * FROM person1\").df()\n",
    "display(person1)"
   ]
  },
  {
   "cell_type": "code",
   "execution_count": 21,
   "metadata": {},
   "outputs": [
    {
     "data": {
      "text/plain": [
       "┌──────────┐\n",
       "│ sum(age) │\n",
       "│  int128  │\n",
       "├──────────┤\n",
       "│      353 │\n",
       "└──────────┘"
      ]
     },
     "execution_count": 21,
     "metadata": {},
     "output_type": "execute_result"
    }
   ],
   "source": [
    "duckdb.sql(f\"select sum(age) from person1\")\n",
    "# Q3 353"
   ]
  },
  {
   "cell_type": "code",
   "execution_count": 23,
   "metadata": {},
   "outputs": [
    {
     "name": "stdout",
     "output_type": "stream",
     "text": [
      "Pipeline dlt_ipykernel_launcher load step completed in 0.25 seconds\n",
      "1 load package(s) were loaded to destination duckdb and into dataset generators\n",
      "The duckdb destination used duckdb:////workspaces/ZoomCamp2024/workshop1_data_ingestion/dlt_ipykernel_launcher.duckdb location to store data\n",
      "Load package 1707837877.6694658 is LOADED and contains no failed jobs\n"
     ]
    }
   ],
   "source": [
    "import dlt\n",
    "\n",
    "# define the connection to load to.\n",
    "# We now use duckdb, but you can switch to Bigquery later\n",
    "generators_pipeline = dlt.pipeline(destination='duckdb', dataset_name='generators')\n",
    "\n",
    "\n",
    "# we can load any generator to a table at the pipeline destnation as follows:\n",
    "info = generators_pipeline.run(people_1(),\n",
    "\t\t\t\t\t\t\t\t\t\ttable_name=\"person1\",\n",
    "\t\t\t\t\t\t\t\t\t\twrite_disposition=\"replace\")\n",
    "\n",
    "# the outcome metadata is returned by the load and we can inspect it by printing it.\n",
    "print(info)\n",
    "\n"
   ]
  },
  {
   "cell_type": "code",
   "execution_count": 24,
   "metadata": {},
   "outputs": [
    {
     "name": "stdout",
     "output_type": "stream",
     "text": [
      "Loaded tables: \n"
     ]
    },
    {
     "data": {
      "text/plain": [
       "┌─────────────────────┐\n",
       "│        name         │\n",
       "│       varchar       │\n",
       "├─────────────────────┤\n",
       "│ _dlt_loads          │\n",
       "│ _dlt_pipeline_state │\n",
       "│ _dlt_version        │\n",
       "│ person1             │\n",
       "└─────────────────────┘"
      ]
     },
     "metadata": {},
     "output_type": "display_data"
    },
    {
     "name": "stdout",
     "output_type": "stream",
     "text": [
      "\n",
      "\n",
      "\n",
      " person1 table below:\n"
     ]
    },
    {
     "data": {
      "text/html": [
       "<div>\n",
       "<style scoped>\n",
       "    .dataframe tbody tr th:only-of-type {\n",
       "        vertical-align: middle;\n",
       "    }\n",
       "\n",
       "    .dataframe tbody tr th {\n",
       "        vertical-align: top;\n",
       "    }\n",
       "\n",
       "    .dataframe thead th {\n",
       "        text-align: right;\n",
       "    }\n",
       "</style>\n",
       "<table border=\"1\" class=\"dataframe\">\n",
       "  <thead>\n",
       "    <tr style=\"text-align: right;\">\n",
       "      <th></th>\n",
       "      <th>id</th>\n",
       "      <th>name</th>\n",
       "      <th>age</th>\n",
       "      <th>city</th>\n",
       "      <th>_dlt_load_id</th>\n",
       "      <th>_dlt_id</th>\n",
       "      <th>occupation</th>\n",
       "    </tr>\n",
       "  </thead>\n",
       "  <tbody>\n",
       "    <tr>\n",
       "      <th>0</th>\n",
       "      <td>1</td>\n",
       "      <td>Person_1</td>\n",
       "      <td>26</td>\n",
       "      <td>City_A</td>\n",
       "      <td>1707837877.6694658</td>\n",
       "      <td>kRt8fm8TvQcsNA</td>\n",
       "      <td>None</td>\n",
       "    </tr>\n",
       "    <tr>\n",
       "      <th>1</th>\n",
       "      <td>2</td>\n",
       "      <td>Person_2</td>\n",
       "      <td>27</td>\n",
       "      <td>City_A</td>\n",
       "      <td>1707837877.6694658</td>\n",
       "      <td>XQrGtzSpB53q4g</td>\n",
       "      <td>None</td>\n",
       "    </tr>\n",
       "    <tr>\n",
       "      <th>2</th>\n",
       "      <td>3</td>\n",
       "      <td>Person_3</td>\n",
       "      <td>28</td>\n",
       "      <td>City_A</td>\n",
       "      <td>1707837877.6694658</td>\n",
       "      <td>WVsHP7XjcjMJXw</td>\n",
       "      <td>None</td>\n",
       "    </tr>\n",
       "    <tr>\n",
       "      <th>3</th>\n",
       "      <td>4</td>\n",
       "      <td>Person_4</td>\n",
       "      <td>29</td>\n",
       "      <td>City_A</td>\n",
       "      <td>1707837877.6694658</td>\n",
       "      <td>ArJeVHHt1GiPog</td>\n",
       "      <td>None</td>\n",
       "    </tr>\n",
       "    <tr>\n",
       "      <th>4</th>\n",
       "      <td>5</td>\n",
       "      <td>Person_5</td>\n",
       "      <td>30</td>\n",
       "      <td>City_A</td>\n",
       "      <td>1707837877.6694658</td>\n",
       "      <td>RJYOuzCKfDcuaQ</td>\n",
       "      <td>None</td>\n",
       "    </tr>\n",
       "  </tbody>\n",
       "</table>\n",
       "</div>"
      ],
      "text/plain": [
       "   id      name  age    city        _dlt_load_id         _dlt_id occupation\n",
       "0   1  Person_1   26  City_A  1707837877.6694658  kRt8fm8TvQcsNA       None\n",
       "1   2  Person_2   27  City_A  1707837877.6694658  XQrGtzSpB53q4g       None\n",
       "2   3  Person_3   28  City_A  1707837877.6694658  WVsHP7XjcjMJXw       None\n",
       "3   4  Person_4   29  City_A  1707837877.6694658  ArJeVHHt1GiPog       None\n",
       "4   5  Person_5   30  City_A  1707837877.6694658  RJYOuzCKfDcuaQ       None"
      ]
     },
     "metadata": {},
     "output_type": "display_data"
    }
   ],
   "source": [
    "import duckdb\n",
    "\n",
    "conn = duckdb.connect(f\"{generators_pipeline.pipeline_name}.duckdb\")\n",
    "\n",
    "# let's see the tables\n",
    "conn.sql(f\"SET search_path = '{generators_pipeline.dataset_name}'\")\n",
    "print('Loaded tables: ')\n",
    "display(conn.sql(\"show tables\"))\n",
    "\n",
    "# and the data\n",
    "\n",
    "print(\"\\n\\n\\n person1 table below:\")\n",
    "\n",
    "person1 = conn.sql(\"SELECT * FROM person1\").df()\n",
    "display(person1)"
   ]
  },
  {
   "cell_type": "code",
   "execution_count": 26,
   "metadata": {},
   "outputs": [
    {
     "name": "stdout",
     "output_type": "stream",
     "text": [
      "Pipeline dlt_ipykernel_launcher load step completed in 0.46 seconds\n",
      "1 load package(s) were loaded to destination duckdb and into dataset generators\n",
      "The duckdb destination used duckdb:////workspaces/ZoomCamp2024/workshop1_data_ingestion/dlt_ipykernel_launcher.duckdb location to store data\n",
      "Load package 1707838062.79119 is LOADED and contains no failed jobs\n"
     ]
    }
   ],
   "source": [
    "pipeline = dlt.pipeline(destination='duckdb', dataset_name='generators')\n",
    "\n",
    "\n",
    "\n",
    "# run with merge write disposition.\n",
    "# This is so scaffolding is created for the next example,\n",
    "# where we look at merging data\n",
    "\n",
    "info = pipeline.run(people_2(),\n",
    "\t\t\t\t\t\t\t\t\t\ttable_name=\"person1\",\n",
    "\t\t\t\t\t\t\t\t\t\twrite_disposition=\"merge\",\n",
    "                    primary_key=\"id\")\n",
    "\n",
    "print(info)"
   ]
  },
  {
   "cell_type": "code",
   "execution_count": 27,
   "metadata": {},
   "outputs": [
    {
     "name": "stdout",
     "output_type": "stream",
     "text": [
      "Loaded tables: \n"
     ]
    },
    {
     "data": {
      "text/plain": [
       "┌─────────────────────┐\n",
       "│        name         │\n",
       "│       varchar       │\n",
       "├─────────────────────┤\n",
       "│ _dlt_loads          │\n",
       "│ _dlt_pipeline_state │\n",
       "│ _dlt_version        │\n",
       "│ person1             │\n",
       "└─────────────────────┘"
      ]
     },
     "metadata": {},
     "output_type": "display_data"
    },
    {
     "name": "stdout",
     "output_type": "stream",
     "text": [
      "\n",
      "\n",
      "\n",
      " Rides table below: Note the times are properly typed\n"
     ]
    },
    {
     "data": {
      "text/html": [
       "<div>\n",
       "<style scoped>\n",
       "    .dataframe tbody tr th:only-of-type {\n",
       "        vertical-align: middle;\n",
       "    }\n",
       "\n",
       "    .dataframe tbody tr th {\n",
       "        vertical-align: top;\n",
       "    }\n",
       "\n",
       "    .dataframe thead th {\n",
       "        text-align: right;\n",
       "    }\n",
       "</style>\n",
       "<table border=\"1\" class=\"dataframe\">\n",
       "  <thead>\n",
       "    <tr style=\"text-align: right;\">\n",
       "      <th></th>\n",
       "      <th>id</th>\n",
       "      <th>name</th>\n",
       "      <th>age</th>\n",
       "      <th>city</th>\n",
       "      <th>_dlt_load_id</th>\n",
       "      <th>_dlt_id</th>\n",
       "      <th>occupation</th>\n",
       "    </tr>\n",
       "  </thead>\n",
       "  <tbody>\n",
       "    <tr>\n",
       "      <th>0</th>\n",
       "      <td>1</td>\n",
       "      <td>Person_1</td>\n",
       "      <td>26</td>\n",
       "      <td>City_A</td>\n",
       "      <td>1707837877.6694658</td>\n",
       "      <td>kRt8fm8TvQcsNA</td>\n",
       "      <td>None</td>\n",
       "    </tr>\n",
       "    <tr>\n",
       "      <th>1</th>\n",
       "      <td>2</td>\n",
       "      <td>Person_2</td>\n",
       "      <td>27</td>\n",
       "      <td>City_A</td>\n",
       "      <td>1707837877.6694658</td>\n",
       "      <td>XQrGtzSpB53q4g</td>\n",
       "      <td>None</td>\n",
       "    </tr>\n",
       "    <tr>\n",
       "      <th>2</th>\n",
       "      <td>8</td>\n",
       "      <td>Person_8</td>\n",
       "      <td>38</td>\n",
       "      <td>City_B</td>\n",
       "      <td>1707838062.79119</td>\n",
       "      <td>7XGydAdYsihOcQ</td>\n",
       "      <td>Job_8</td>\n",
       "    </tr>\n",
       "    <tr>\n",
       "      <th>3</th>\n",
       "      <td>4</td>\n",
       "      <td>Person_4</td>\n",
       "      <td>34</td>\n",
       "      <td>City_B</td>\n",
       "      <td>1707838062.79119</td>\n",
       "      <td>BXnqPzOEJhR9Dw</td>\n",
       "      <td>Job_4</td>\n",
       "    </tr>\n",
       "    <tr>\n",
       "      <th>4</th>\n",
       "      <td>5</td>\n",
       "      <td>Person_5</td>\n",
       "      <td>35</td>\n",
       "      <td>City_B</td>\n",
       "      <td>1707838062.79119</td>\n",
       "      <td>wBjUHy89INRhpg</td>\n",
       "      <td>Job_5</td>\n",
       "    </tr>\n",
       "    <tr>\n",
       "      <th>5</th>\n",
       "      <td>7</td>\n",
       "      <td>Person_7</td>\n",
       "      <td>37</td>\n",
       "      <td>City_B</td>\n",
       "      <td>1707838062.79119</td>\n",
       "      <td>CqYP6wlVzVlWwA</td>\n",
       "      <td>Job_7</td>\n",
       "    </tr>\n",
       "    <tr>\n",
       "      <th>6</th>\n",
       "      <td>3</td>\n",
       "      <td>Person_3</td>\n",
       "      <td>33</td>\n",
       "      <td>City_B</td>\n",
       "      <td>1707838062.79119</td>\n",
       "      <td>DQp4v/Xy2eHKPg</td>\n",
       "      <td>Job_3</td>\n",
       "    </tr>\n",
       "    <tr>\n",
       "      <th>7</th>\n",
       "      <td>6</td>\n",
       "      <td>Person_6</td>\n",
       "      <td>36</td>\n",
       "      <td>City_B</td>\n",
       "      <td>1707838062.79119</td>\n",
       "      <td>zcYCROibnvh4Ng</td>\n",
       "      <td>Job_6</td>\n",
       "    </tr>\n",
       "  </tbody>\n",
       "</table>\n",
       "</div>"
      ],
      "text/plain": [
       "   id      name  age    city        _dlt_load_id         _dlt_id occupation\n",
       "0   1  Person_1   26  City_A  1707837877.6694658  kRt8fm8TvQcsNA       None\n",
       "1   2  Person_2   27  City_A  1707837877.6694658  XQrGtzSpB53q4g       None\n",
       "2   8  Person_8   38  City_B    1707838062.79119  7XGydAdYsihOcQ      Job_8\n",
       "3   4  Person_4   34  City_B    1707838062.79119  BXnqPzOEJhR9Dw      Job_4\n",
       "4   5  Person_5   35  City_B    1707838062.79119  wBjUHy89INRhpg      Job_5\n",
       "5   7  Person_7   37  City_B    1707838062.79119  CqYP6wlVzVlWwA      Job_7\n",
       "6   3  Person_3   33  City_B    1707838062.79119  DQp4v/Xy2eHKPg      Job_3\n",
       "7   6  Person_6   36  City_B    1707838062.79119  zcYCROibnvh4Ng      Job_6"
      ]
     },
     "metadata": {},
     "output_type": "display_data"
    }
   ],
   "source": [
    "# show the outcome\n",
    "\n",
    "conn = duckdb.connect(f\"{pipeline.pipeline_name}.duckdb\")\n",
    "\n",
    "# let's see the tables\n",
    "conn.sql(f\"SET search_path = '{pipeline.dataset_name}'\")\n",
    "print('Loaded tables: ')\n",
    "display(conn.sql(\"show tables\"))\n",
    "\n",
    "\n",
    "print(\"\\n\\n\\n Rides table below: Note the times are properly typed\")\n",
    "person1 = conn.sql(\"SELECT * FROM person1\").df()\n",
    "display(person1)\n",
    "\n"
   ]
  },
  {
   "cell_type": "code",
   "execution_count": 28,
   "metadata": {},
   "outputs": [
    {
     "data": {
      "text/plain": [
       "┌──────────┐\n",
       "│ count(1) │\n",
       "│  int64   │\n",
       "├──────────┤\n",
       "│        8 │\n",
       "└──────────┘"
      ]
     },
     "execution_count": 28,
     "metadata": {},
     "output_type": "execute_result"
    }
   ],
   "source": [
    "duckdb.sql(f\" select count(1) from person1\")"
   ]
  },
  {
   "cell_type": "code",
   "execution_count": 29,
   "metadata": {},
   "outputs": [
    {
     "data": {
      "text/plain": [
       "┌───────┐\n",
       "│  age  │\n",
       "│ int64 │\n",
       "├───────┤\n",
       "│    33 │\n",
       "└───────┘"
      ]
     },
     "execution_count": 29,
     "metadata": {},
     "output_type": "execute_result"
    }
   ],
   "source": [
    "duckdb.sql(f\" select age from person1 where id = 3\")\n",
    "# 33"
   ]
  },
  {
   "cell_type": "code",
   "execution_count": 30,
   "metadata": {},
   "outputs": [
    {
     "data": {
      "text/plain": [
       "┌──────────┐\n",
       "│ sum(age) │\n",
       "│  int128  │\n",
       "├──────────┤\n",
       "│      266 │\n",
       "└──────────┘"
      ]
     },
     "execution_count": 30,
     "metadata": {},
     "output_type": "execute_result"
    }
   ],
   "source": [
    "duckdb.sql(f\" select sum(age) from person1\")\n",
    "# 266"
   ]
  },
  {
   "cell_type": "markdown",
   "metadata": {
    "id": "PoTJu4kbGG0z"
   },
   "source": [
    "Questions? difficulties? We are here to help.\n",
    "- DTC data engineering course channel: https://datatalks-club.slack.com/archives/C01FABYF2RG\n",
    "- dlt's DTC cohort channel: https://dlthub-community.slack.com/archives/C06GAEX2VNX"
   ]
  }
 ],
 "metadata": {
  "colab": {
   "provenance": []
  },
  "kernelspec": {
   "display_name": "Python 3 (ipykernel)",
   "language": "python",
   "name": "python3"
  },
  "language_info": {
   "codemirror_mode": {
    "name": "ipython",
    "version": 3
   },
   "file_extension": ".py",
   "mimetype": "text/x-python",
   "name": "python",
   "nbconvert_exporter": "python",
   "pygments_lexer": "ipython3",
   "version": "3.10.13"
  }
 },
 "nbformat": 4,
 "nbformat_minor": 4
}
