{
 "cells": [
  {
   "cell_type": "code",
   "execution_count": 6,
   "id": "f36f730a-9c06-4d9e-8c17-b284bec15b34",
   "metadata": {},
   "outputs": [
    {
     "name": "stdout",
     "output_type": "stream",
     "text": [
      "hello world\n"
     ]
    }
   ],
   "source": [
    "print(\"hello world\")"
   ]
  },
  {
   "cell_type": "code",
   "execution_count": 8,
   "id": "095867f8-701c-4fc6-8e85-32537d8704e0",
   "metadata": {},
   "outputs": [
    {
     "data": {
      "text/plain": [
       "[4, 16]"
      ]
     },
     "execution_count": 8,
     "metadata": {},
     "output_type": "execute_result"
    }
   ],
   "source": [
    "#Input: \n",
    "nums = [1,2,3,4]\n",
    "\n",
    "list_op = [x*x for x in nums ]\n",
    "list_op\n",
    "#Output: [1,4,9,16]"
   ]
  },
  {
   "cell_type": "markdown",
   "id": "77da30a1-ae1c-4b7a-b78a-789820848eae",
   "metadata": {},
   "source": [
    "2. Given a string, return each character in a new line with number of characters = the index value + 1\n",
    " \n",
    "Example 1:\n",
    " \n",
    "Input: nums = \"hello\"\n",
    "Output: \n",
    "h\n",
    "ee\n",
    "lll\n",
    "llll\n",
    "ooooo\n",
    "has context menu"
   ]
  },
  {
   "cell_type": "code",
   "execution_count": 11,
   "id": "bacb417c-aaac-4e16-95e7-65ba8f0053e4",
   "metadata": {},
   "outputs": [
    {
     "name": "stdout",
     "output_type": "stream",
     "text": [
      "h\n",
      "ee\n",
      "lll\n",
      "llll\n",
      "ooooo\n"
     ]
    }
   ],
   "source": [
    "string = \"hello\"\n",
    "for index, x in enumerate(list(string),start =1):\n",
    "    print(x*index)"
   ]
  },
  {
   "cell_type": "markdown",
   "id": "3a1bf74d-0a17-49d6-89d2-0d69b1d034f0",
   "metadata": {},
   "source": [
    "3. Given an integer array nums, return true if any value appears at least twice in the array, and return false if every element is distinct.\n",
    " \n",
    "Example 1:\n",
    " \n",
    "Input: nums = [1,2,3,1]\n",
    "Output: true\n",
    "Example 2:\n",
    " \n",
    "Input: nums = [1,2,3,4]\n",
    "Output: false\n",
    "Example 3:\n",
    " \n",
    "Input: nums = [1,1,1,3,3,4,3,2,4,2]\n",
    "Output: true"
   ]
  },
  {
   "cell_type": "code",
   "execution_count": null,
   "id": "2b394f32-63a1-41ee-a167-9e89d1b581ba",
   "metadata": {},
   "outputs": [],
   "source": [
    "def check_array(nums):\n",
    "    flag = false\n",
    "    for element in nums:\n",
    "        if nums.count(element) > 1:\n",
    "            flag = true\n",
    "            break\n",
    "\n",
    "\n",
    "\n",
    "nums = [1,2,3,1]\n",
    "check_array("
   ]
  },
  {
   "cell_type": "markdown",
   "id": "df6a6146-a5da-4b01-a253-6db809897813",
   "metadata": {},
   "source": [
    "Input: nums = [2,7,11,15], target = 9\n",
    "Output: [0,1]\n",
    "Explanation: Because nums[0] + nums[1] == 9, we return [0, 1].\n",
    "Example 2:\n",
    " \n",
    "Input: nums = [3,2,4], target = 6\n",
    "Output: [1,2]\n",
    "Example 3:\n",
    " \n",
    "Input: nums = [3,3], target = 6\n",
    "Output: [0,1]"
   ]
  },
  {
   "cell_type": "code",
   "execution_count": 18,
   "id": "05793e94-9fdb-4d41-85a0-a822aff4bee2",
   "metadata": {},
   "outputs": [
    {
     "name": "stdout",
     "output_type": "stream",
     "text": [
      "[0, 1]\n",
      "[1, 2]\n",
      "[0, 1]\n"
     ]
    },
    {
     "ename": "IndexError",
     "evalue": "list index out of range",
     "output_type": "error",
     "traceback": [
      "\u001b[0;31m---------------------------------------------------------------------------\u001b[0m",
      "\u001b[0;31mIndexError\u001b[0m                                Traceback (most recent call last)",
      "Cell \u001b[0;32mIn[18], line 21\u001b[0m\n\u001b[1;32m     19\u001b[0m nums \u001b[38;5;241m=\u001b[39m [\u001b[38;5;241m1\u001b[39m,\u001b[38;5;241m2\u001b[39m,\u001b[38;5;241m3\u001b[39m,\u001b[38;5;241m4\u001b[39m,\u001b[38;5;241m5\u001b[39m]\n\u001b[1;32m     20\u001b[0m target \u001b[38;5;241m=\u001b[39m \u001b[38;5;241m10\u001b[39m\n\u001b[0;32m---> 21\u001b[0m output_list \u001b[38;5;241m=\u001b[39m \u001b[43mcheck_target\u001b[49m\u001b[43m(\u001b[49m\u001b[43mnums\u001b[49m\u001b[43m,\u001b[49m\u001b[43m \u001b[49m\u001b[43mtarget\u001b[49m\u001b[43m)\u001b[49m\n\u001b[1;32m     22\u001b[0m \u001b[38;5;28mprint\u001b[39m(output_list)\n",
      "Cell \u001b[0;32mIn[18], line 3\u001b[0m, in \u001b[0;36mcheck_target\u001b[0;34m(nums, target)\u001b[0m\n\u001b[1;32m      1\u001b[0m \u001b[38;5;28;01mdef\u001b[39;00m \u001b[38;5;21mcheck_target\u001b[39m(nums, target):\n\u001b[1;32m      2\u001b[0m     \u001b[38;5;28;01mfor\u001b[39;00m index, element \u001b[38;5;129;01min\u001b[39;00m \u001b[38;5;28menumerate\u001b[39m(nums):\n\u001b[0;32m----> 3\u001b[0m         \u001b[38;5;28;01mif\u001b[39;00m nums[index] \u001b[38;5;241m+\u001b[39m \u001b[43mnums\u001b[49m\u001b[43m[\u001b[49m\u001b[43mindex\u001b[49m\u001b[38;5;241;43m+\u001b[39;49m\u001b[38;5;241;43m1\u001b[39;49m\u001b[43m]\u001b[49m \u001b[38;5;241m==\u001b[39m target:\n\u001b[1;32m      4\u001b[0m             \u001b[38;5;28;01mreturn\u001b[39;00m [index, index\u001b[38;5;241m+\u001b[39m\u001b[38;5;241m1\u001b[39m]\n\u001b[1;32m      5\u001b[0m             \u001b[38;5;28;01mbreak\u001b[39;00m\n",
      "\u001b[0;31mIndexError\u001b[0m: list index out of range"
     ]
    }
   ],
   "source": [
    "def check_target(nums, target):\n",
    "    for index, element in enumerate(nums):\n",
    "        if nums[index] + nums[index+1] == target:\n",
    "            return [index, index+1]\n",
    "            break\n",
    "\n",
    "nums = [2,7,11,15]\n",
    "target = 9\n",
    "output_list = check_target(nums, target)\n",
    "print(output_list)\n",
    "nums = [3,2,4]\n",
    "target = 6\n",
    "output_list = check_target(nums, target)\n",
    "print(output_list)\n",
    "nums = [3,3]\n",
    "target = 6\n",
    "output_list = check_target(nums, target)\n",
    "print(output_list)\n",
    "nums = [1,2,3,4,5]\n",
    "target = 10\n",
    "output_list = check_target(nums, target)\n",
    "print(output_list)"
   ]
  }
 ],
 "metadata": {
  "kernelspec": {
   "display_name": "Python 3 (ipykernel)",
   "language": "python",
   "name": "python3"
  },
  "language_info": {
   "codemirror_mode": {
    "name": "ipython",
    "version": 3
   },
   "file_extension": ".py",
   "mimetype": "text/x-python",
   "name": "python",
   "nbconvert_exporter": "python",
   "pygments_lexer": "ipython3",
   "version": "3.10.13"
  }
 },
 "nbformat": 4,
 "nbformat_minor": 5
}
